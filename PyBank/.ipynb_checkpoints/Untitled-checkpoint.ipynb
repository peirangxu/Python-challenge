{
 "cells": [
  {
   "cell_type": "markdown",
   "metadata": {},
   "source": [
    "PayBank"
   ]
  },
  {
   "cell_type": "code",
   "execution_count": null,
   "metadata": {},
   "outputs": [],
   "source": [
    "import os\n",
    "path = os.path.join(\"..\",\"Users\",\"peirangxu\",\"desktop\",\"Resources\",\"budget_data.csv\")\n",
    "path"
   ]
  },
  {
   "cell_type": "code",
   "execution_count": 1,
   "metadata": {},
   "outputs": [
    {
     "name": "stdout",
     "output_type": "stream",
     "text": [
      "There are a total of 86 months included in the dataset\n",
      "There is net total of 38382578 profit/loss over the entire period\n",
      "The average profit/loss change is $-2315.12\n",
      "The maximum change in profit/loss is $1926159 on Feb-2012\n",
      "The minimum change in profit/loss is $-2196167 on Sep-2013\n"
     ]
    }
   ],
   "source": [
    "import csv\n",
    "\n",
    "with open(\"/Users/peirangxu/Desktop/Resources/budget_data.csv\", newline = \"\") as csvfile:\n",
    "    csvreader = csv.reader(csvfile, delimiter=\",\")\n",
    "    next(csvreader)  ## skip the header of the csv file\n",
    "    \n",
    "    #create empty lists\n",
    "    month = []\n",
    "    profit = []\n",
    "    change = []\n",
    "    \n",
    "    for row in csvreader:\n",
    "        month.append(row[0])\n",
    "        profit.append(int(row[1]))\n",
    "        \n",
    "    for i in range(len(profit)-1):\n",
    "        change.append(profit[i+1]-profit[i]) #change in profit/loss\n",
    "        row[1]\n",
    "        \n",
    "len(month) #total number of month included\n",
    "sum(profit) #sum of Profit & Loss\n",
    "average_profit = sum(change)/len(change) #average profit/loss\n",
    "max_profit = max(change) #maximum profit/loss\n",
    "min_profit = min(change) #minimumu profit/loss\n",
    "max_date = month[change.index(max_profit)+1] #date of maximum change in profit/loss\n",
    "min_date = month[change.index(min_profit)+1] #date of minimum change in profit/loss\n",
    "\n",
    "print(f'There are a total of {len(month)} months included in the dataset')\n",
    "print(f'There is net total of {sum(profit)} profit/loss over the entire period')\n",
    "print(f'The average profit/loss change is ${round(average_profit, 2)}')\n",
    "print(f'The maximum change in profit/loss is ${max_profit} on {max_date}')\n",
    "print(f'The minimum change in profit/loss is ${min_profit} on {min_date}')\n",
    "\n",
    "#Write results in a txt file\n",
    "with open(\"/Users/peirangxu/Desktop/Python-challenge/PyBank/Financial_Analysis_Summary.txt\",\"w\") as text:\n",
    "    text.write(\"Financial Analysis \\n\")\n",
    "    text.write(\"--------------------------\\n\")\n",
    "    text.write(\"Total Months:\" +str(len(month)) + \"\\n\")\n",
    "    text.write(\"Total: $\" +str(sum(profit))+\"\\n\")\n",
    "    text.write(\"Average Change: $\"+str(round(average_profit,2))+\"\\n\")\n",
    "    text.write(\"Greatest Increase in Profits:\" + str(max_date)+\n",
    "               \" ($\"+str(max_profit)+\")\"+\"\\n\")\n",
    "    text.write(\"Greatest Decrease in Profits:\" + str(min_date)+\n",
    "               \" ($\"+str(min_profit)+\")\"+\"\\n\")"
   ]
  },
  {
   "cell_type": "markdown",
   "metadata": {},
   "source": [
    "##PyPoll"
   ]
  },
  {
   "cell_type": "code",
   "execution_count": 2,
   "metadata": {},
   "outputs": [
    {
     "name": "stdout",
     "output_type": "stream",
     "text": [
      "3521001\n"
     ]
    }
   ],
   "source": [
    "import csv\n",
    "\n",
    "with open(\"/Users/peirangxu/Desktop/Python-challenge/PyPoll/election_data.csv\", \n",
    "          newline = \"\") as csvfile2:\n",
    "    csvreader2 = csv.reader(csvfile2, delimiter=\",\")\n",
    "    next(csvreader2)\n",
    "    \n",
    "    #create empty dictionary/list and set up counter\n",
    "    total_votes = 0\n",
    "    candidates = {}\n",
    "    voter_percentage = []\n",
    "    \n",
    "    for row in csvreader2:\n",
    "        total_votes = total_votes + 1\n",
    "        \n",
    "        if row[2] not in candidates.keys():\n",
    "            candidates[row[2]]=0\n",
    "        candidates[row[2]]=candidates[row[2]]+1  #count total votes for each candidate\n",
    "        \n",
    "    print(total_votes)  #total votes casted\n",
    "\n",
    "#Write results in txt file\n",
    "with open(\"/Users/peirangxu/Desktop/Python-challenge/PyPoll/Election_Results_Summary.txt\",\"w\") as text:\n",
    "    text.write(\"Election Results \\n\")\n",
    "    text.write(\"--------------------------\\n\")\n",
    "    text.write(\"Total Votes:\" + str(total_votes) + \"\\n\")\n",
    "    text.write(\"---------------------------\\n\")\n",
    "    \n",
    "    winning_count = 0  #Initial value for winning_count\n",
    "    for i,j in candidates.items():\n",
    "        if j > winning_count:\n",
    "            winning_count = j\n",
    "            winner_candidate = i #winner candidate corresponding to winning_count\n",
    "            text.write(f'winner:{winner_candidate} {winning_count} votes \\n')\n",
    "            text.write(\"------------------------\\n\")\n",
    "        votes = float(j)\n",
    "        votes_percentage = votes/total_votes * 100  #percentage of votes got for each candidate\n",
    "        text.write(f'{i}:{round(votes_percentage, 3)} % ({votes}) \\n')"
   ]
  },
  {
   "cell_type": "markdown",
   "metadata": {},
   "source": [
    "##PyBoss"
   ]
  },
  {
   "cell_type": "code",
   "execution_count": null,
   "metadata": {},
   "outputs": [],
   "source": [
    "with open(\"/Users/peirangxu/Desktop/Python-challenge/PyBoss/employee_data.csv\", \n",
    "          newline = \"\") as csvfile3:\n",
    "    csvreader3 = csv.reader(csvfile3, delimiter=\",\")\n",
    "    for row in csvreader3:\n",
    "        str_split(row[2])\n"
   ]
  },
  {
   "cell_type": "code",
   "execution_count": null,
   "metadata": {},
   "outputs": [],
   "source": []
  },
  {
   "cell_type": "code",
   "execution_count": null,
   "metadata": {},
   "outputs": [],
   "source": []
  },
  {
   "cell_type": "code",
   "execution_count": null,
   "metadata": {},
   "outputs": [],
   "source": []
  }
 ],
 "metadata": {
  "kernelspec": {
   "display_name": "Python 3",
   "language": "python",
   "name": "python3"
  },
  "language_info": {
   "codemirror_mode": {
    "name": "ipython",
    "version": 3
   },
   "file_extension": ".py",
   "mimetype": "text/x-python",
   "name": "python",
   "nbconvert_exporter": "python",
   "pygments_lexer": "ipython3",
   "version": "3.7.3"
  }
 },
 "nbformat": 4,
 "nbformat_minor": 4
}
