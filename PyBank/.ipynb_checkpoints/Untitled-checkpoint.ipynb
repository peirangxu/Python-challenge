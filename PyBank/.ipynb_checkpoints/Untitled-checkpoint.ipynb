{
 "cells": [
  {
   "cell_type": "markdown",
   "metadata": {},
   "source": [
    "PayBank"
   ]
  },
  {
   "cell_type": "code",
   "execution_count": null,
   "metadata": {},
   "outputs": [],
   "source": [
    "import os\n",
    "path = os.path.join(\"..\",\"Users\",\"peirangxu\",\"desktop\",\"Resources\",\"budget_data.csv\")\n",
    "path"
   ]
  },
  {
   "cell_type": "code",
   "execution_count": 1,
   "metadata": {},
   "outputs": [
    {
     "name": "stdout",
     "output_type": "stream",
     "text": [
      "There are a total of 86 months included in the dataset\n",
      "There is net total of 38382578 profit/loss over the entire period\n",
      "The average profit/loss change is $-2315.12\n",
      "The maximum change in profit/loss is $1926159 on Feb-2012\n",
      "The minimum change in profit/loss is $-2196167 on Sep-2013\n"
     ]
    }
   ],
   "source": [
    "import csv\n",
    "\n",
    "with open(\"/Users/peirangxu/Desktop/Resources/budget_data.csv\", newline = \"\") as csvfile:\n",
    "    csvreader = csv.reader(csvfile, delimiter=\",\")\n",
    "    next(csvreader)  ## skip the header of the csv file\n",
    "    \n",
    "    #create empty lists\n",
    "    month = []\n",
    "    profit = []\n",
    "    change = []\n",
    "    \n",
    "    for row in csvreader:\n",
    "        month.append(row[0])\n",
    "        profit.append(int(row[1]))\n",
    "        \n",
    "    for i in range(len(profit)-1):\n",
    "        change.append(profit[i+1]-profit[i]) #change in profit/loss\n",
    "        row[1]\n",
    "        \n",
    "len(month) #total number of month included\n",
    "sum(profit) #sum of Profit & Loss\n",
    "average_profit = sum(change)/len(change) #average profit/loss\n",
    "max_profit = max(change) #maximum profit/loss\n",
    "min_profit = min(change) #minimumu profit/loss\n",
    "max_date = month[change.index(max_profit)+1] #date of maximum change in profit/loss\n",
    "min_date = month[change.index(min_profit)+1] #date of minimum change in profit/loss\n",
    "\n",
    "print(f'There are a total of {len(month)} months included in the dataset')\n",
    "print(f'There is net total of {sum(profit)} profit/loss over the entire period')\n",
    "print(f'The average profit/loss change is ${round(average_profit, 2)}')\n",
    "print(f'The maximum change in profit/loss is ${max_profit} on {max_date}')\n",
    "print(f'The minimum change in profit/loss is ${min_profit} on {min_date}')\n",
    "\n",
    "#Write results in a txt file\n",
    "with open(\"/Users/peirangxu/Desktop/Python-challenge/PyBank/Financial_Analysis_Summary.txt\",\"w\") as text:\n",
    "    text.write(\"Financial Analysis \\n\")\n",
    "    text.write(\"--------------------------\\n\")\n",
    "    text.write(\"Total Months:\" +str(len(month)) + \"\\n\")\n",
    "    text.write(\"Total: $\" +str(sum(profit))+\"\\n\")\n",
    "    text.write(\"Average Change: $\"+str(round(average_profit,2))+\"\\n\")\n",
    "    text.write(\"Greatest Increase in Profits:\" + str(max_date)+\n",
    "               \" ($\"+str(max_profit)+\")\"+\"\\n\")\n",
    "    text.write(\"Greatest Decrease in Profits:\" + str(min_date)+\n",
    "               \" ($\"+str(min_profit)+\")\"+\"\\n\")"
   ]
  },
  {
   "cell_type": "markdown",
   "metadata": {},
   "source": [
    "##PyPoll"
   ]
  },
  {
   "cell_type": "code",
   "execution_count": 17,
   "metadata": {},
   "outputs": [
    {
     "name": "stdout",
     "output_type": "stream",
     "text": [
      "3521001\n"
     ]
    }
   ],
   "source": [
    "import csv\n",
    "\n",
    "with open(\"/Users/peirangxu/Desktop/Python-challenge/PyPoll/election_data.csv\", \n",
    "          newline = \"\") as csvfile2:\n",
    "    csvreader2 = csv.reader(csvfile2, delimiter=\",\")\n",
    "    next(csvreader2)\n",
    "    \n",
    "    #create empty dictionary/list and set up counter\n",
    "    total_votes = 0\n",
    "    candidates = {}\n",
    "    voter_percentage = []\n",
    "    \n",
    "    for row in csvreader2:\n",
    "        total_votes = total_votes + 1\n",
    "        \n",
    "        if row[2] not in candidates.keys():\n",
    "            candidates[row[2]]=0\n",
    "        candidates[row[2]]=candidates[row[2]]+1  #count total votes for each candidate\n",
    "        \n",
    "    print(total_votes)  #total votes casted\n",
    "\n",
    "#Write results in txt file\n",
    "with open(\"/Users/peirangxu/Desktop/Python-challenge/PyPoll/Election_Results_Summary.txt\",\"w\") as text:\n",
    "    text.write(\"Election Results \\n\")\n",
    "    text.write(\"--------------------------\\n\")\n",
    "    text.write(\"Total Votes:\" + str(total_votes) + \"\\n\")\n",
    "    text.write(\"---------------------------\\n\")\n",
    "    \n",
    "    winning_count = 0  #Initial value for winning_count\n",
    "    for i,j in candidates.items():\n",
    "        if j > winning_count:\n",
    "            winning_count = j\n",
    "            winner_candidate = i #winner candidate corresponding to winning_count\n",
    "            text.write(f'winner:{winner_candidate} {winning_count} votes \\n')\n",
    "            text.write(\"------------------------\\n\")\n",
    "        votes = float(j)\n",
    "        votes_percentage = votes/total_votes * 100  #percentage of votes got for each candidate\n",
    "        text.write(f'{i}: {round(votes_percentage,3)} % ({votes}) \\n')"
   ]
  },
  {
   "cell_type": "markdown",
   "metadata": {},
   "source": [
    "##PyBoss"
   ]
  },
  {
   "cell_type": "code",
   "execution_count": 82,
   "metadata": {},
   "outputs": [],
   "source": [
    "import datetime\n",
    "\n",
    "with open(\"/Users/peirangxu/Desktop/Python-challenge/PyBoss/employee_data.csv\", \n",
    "          newline = \"\") as csvfile3:\n",
    "    csvreader3 = csv.reader(csvfile3, delimiter=\",\")\n",
    "    next(csvreader3)\n",
    "    \n",
    "    Emp_ID = []\n",
    "    first_name = []\n",
    "    last_name = []\n",
    "    DOB =[]\n",
    "    States = []\n",
    "    SSN_final = []\n",
    "    for row in csvreader3:\n",
    "        Emp_ID.append(row[0]) #Extract emp id\n",
    "        \n",
    "        # Split names and store first and last name in seperate lists\n",
    "        name = row[1].split(\" \")\n",
    "        first_name.append(name[0])\n",
    "        last_name.append(name[1])\n",
    "        \n",
    "    #Change the format of DOB and put in a list\n",
    "        date = datetime.datetime.strptime(row[2], '%Y-%m-%d').strftime('%m/%d/%y')\n",
    "        DOB.append(date)\n",
    "        \n",
    "    #State abbrev.\n",
    "        us_state_abbrev = {\n",
    "    'Alabama': 'AL',\n",
    "    'Alaska': 'AK',\n",
    "    'Arizona': 'AZ',\n",
    "    'Arkansas': 'AR',\n",
    "    'California': 'CA',\n",
    "    'Colorado': 'CO',\n",
    "    'Connecticut': 'CT',\n",
    "    'Delaware': 'DE',\n",
    "    'Florida': 'FL',\n",
    "    'Georgia': 'GA',\n",
    "    'Hawaii': 'HI',\n",
    "    'Idaho': 'ID',\n",
    "    'Illinois': 'IL',\n",
    "    'Indiana': 'IN',\n",
    "    'Iowa': 'IA',\n",
    "    'Kansas': 'KS',\n",
    "    'Kentucky': 'KY',\n",
    "    'Louisiana': 'LA',\n",
    "    'Maine': 'ME',\n",
    "    'Maryland': 'MD',\n",
    "    'Massachusetts': 'MA',\n",
    "    'Michigan': 'MI',\n",
    "    'Minnesota': 'MN',\n",
    "    'Mississippi': 'MS',\n",
    "    'Missouri': 'MO',\n",
    "    'Montana': 'MT',\n",
    "    'Nebraska': 'NE',\n",
    "    'Nevada': 'NV',\n",
    "    'New Hampshire': 'NH',\n",
    "    'New Jersey': 'NJ',\n",
    "    'New Mexico': 'NM',\n",
    "    'New York': 'NY',\n",
    "    'North Carolina': 'NC',\n",
    "    'North Dakota': 'ND',\n",
    "    'Ohio': 'OH',\n",
    "    'Oklahoma': 'OK',\n",
    "    'Oregon': 'OR',\n",
    "    'Pennsylvania': 'PA',\n",
    "    'Rhode Island': 'RI',\n",
    "    'South Carolina': 'SC',\n",
    "    'South Dakota': 'SD',\n",
    "    'Tennessee': 'TN',\n",
    "    'Texas': 'TX',\n",
    "    'Utah': 'UT',\n",
    "    'Vermont': 'VT',\n",
    "    'Virginia': 'VA',\n",
    "    'Washington': 'WA',\n",
    "    'West Virginia': 'WV',\n",
    "    'Wisconsin': 'WI',\n",
    "    'Wyoming': 'WY',\n",
    "        }\n",
    "        States.append(us_state_abbrev[row[4]])\n",
    "        \n",
    "        #Change the format of SSN\n",
    "        SSN= list(row[3])\n",
    "        SSN[0:3]=(\"*\",\"*\",\"*\")\n",
    "        SSN[4:6]=(\"*\",\"*\", \"*\")\n",
    "        join_SSN = \"\".join(SSN)\n",
    "        SSN_final.append(join_SSN)   \n",
    "\n",
    "#Write a new csv file\n",
    "emd = zip(Emp_ID,first_name,last_name,DOB,SSN_final,States)\n",
    "with open(\"/Users/peirangxu/Desktop/Python-challenge/PyBoss/employee_data_Adjusted.csv\", \n",
    "          \"w\",newline = \"\") as csvfile3:\n",
    "    csvwriter3 = csv.writer(csvfile3, delimiter=\",\")\n",
    "    csvwriter3.writerow([\"Emp ID\", \"First Name\", \"Last Name\", \"DOB\", \"SSN\",\"State\"])\n",
    "    csvwriter3.writerows(emd)\n",
    "    "
   ]
  },
  {
   "cell_type": "code",
   "execution_count": 79,
   "metadata": {},
   "outputs": [
    {
     "data": {
      "text/plain": [
       "'ID'"
      ]
     },
     "execution_count": 79,
     "metadata": {},
     "output_type": "execute_result"
    }
   ],
   "source": []
  },
  {
   "cell_type": "markdown",
   "metadata": {},
   "source": [
    "##Pyparagraph"
   ]
  },
  {
   "cell_type": "code",
   "execution_count": 84,
   "metadata": {},
   "outputs": [
    {
     "ename": "SyntaxError",
     "evalue": "unexpected EOF while parsing (<ipython-input-84-46bd9f4659e1>, line 2)",
     "output_type": "error",
     "traceback": [
      "\u001b[0;36m  File \u001b[0;32m\"<ipython-input-84-46bd9f4659e1>\"\u001b[0;36m, line \u001b[0;32m2\u001b[0m\n\u001b[0;31m    \u001b[0m\n\u001b[0m    ^\u001b[0m\n\u001b[0;31mSyntaxError\u001b[0m\u001b[0;31m:\u001b[0m unexpected EOF while parsing\n"
     ]
    }
   ],
   "source": [
    "\n",
    "with open(\"/Users/peirangxu/Desktop/Python-challenge/Pyparagraph/paragraph_1.txt\") as txtfile:\n",
    "    "
   ]
  },
  {
   "cell_type": "code",
   "execution_count": 27,
   "metadata": {},
   "outputs": [
    {
     "name": "stdout",
     "output_type": "stream",
     "text": [
      "{'Khan': 2218230, 'Correy': 704199, 'Li': 492939, \"O'Tooley\": 105629}\n"
     ]
    }
   ],
   "source": []
  },
  {
   "cell_type": "code",
   "execution_count": null,
   "metadata": {},
   "outputs": [],
   "source": []
  }
 ],
 "metadata": {
  "kernelspec": {
   "display_name": "Python 3",
   "language": "python",
   "name": "python3"
  },
  "language_info": {
   "codemirror_mode": {
    "name": "ipython",
    "version": 3
   },
   "file_extension": ".py",
   "mimetype": "text/x-python",
   "name": "python",
   "nbconvert_exporter": "python",
   "pygments_lexer": "ipython3",
   "version": "3.7.3"
  }
 },
 "nbformat": 4,
 "nbformat_minor": 4
}
