{
 "cells": [
  {
   "cell_type": "markdown",
   "metadata": {},
   "source": [
    "PayBank"
   ]
  },
  {
   "cell_type": "code",
   "execution_count": null,
   "metadata": {},
   "outputs": [],
   "source": []
  },
  {
   "cell_type": "code",
   "execution_count": null,
   "metadata": {},
   "outputs": [],
   "source": [
    "import csv\n",
    "\n",
    "with open(\"/Users/peirangxu/Desktop/Resources/budget_data.csv\", newline = \"\") as csvfile:\n",
    "    csvreader = csv.reader(csvfile, delimiter=\",\")\n",
    "    next(csvreader)  ## skip the header of the csv file\n",
    "    \n",
    "    #create empty lists\n",
    "    month = []\n",
    "    profit = []\n",
    "    change = []\n",
    "    \n",
    "    for row in csvreader:\n",
    "        month.append(row[0])\n",
    "        profit.append(int(row[1]))\n",
    "        \n",
    "    for i in range(len(profit)-1):\n",
    "        change.append(profit[i+1]-profit[i]) #change in profit/loss\n",
    "        row[1]\n",
    "        \n",
    "len(month) #total number of month included\n",
    "sum(profit) #sum of Profit & Loss\n",
    "average_profit = sum(change)/len(change) #average profit/loss\n",
    "max_profit = max(change) #maximum profit/loss\n",
    "min_profit = min(change) #minimumu profit/loss\n",
    "max_date = month[change.index(max_profit)+1] #date of maximum change in profit/loss\n",
    "min_date = month[change.index(min_profit)+1] #date of minimum change in profit/loss\n",
    "\n",
    "print(f'There are a total of {len(month)} months included in the dataset')\n",
    "print(f'There is net total of {sum(profit)} profit/loss over the entire period')\n",
    "print(f'The average profit/loss change is ${round(average_profit, 2)}')\n",
    "print(f'The maximum change in profit/loss is ${max_profit} on {max_date}')\n",
    "print(f'The minimum change in profit/loss is ${min_profit} on {min_date}')\n",
    "\n",
    "#Write results in a txt file\n",
    "with open(\"/Users/peirangxu/Desktop/Python-challenge/PyBank/Financial_Analysis_Summary.txt\",\"w\") as text:\n",
    "    text.write(\"Financial Analysis \\n\")\n",
    "    text.write(\"--------------------------\\n\")\n",
    "    text.write(\"Total Months:\" +str(len(month)) + \"\\n\")\n",
    "    text.write(\"Total: $\" +str(sum(profit))+\"\\n\")\n",
    "    text.write(\"Average Change: $\"+str(round(average_profit,2))+\"\\n\")\n",
    "    text.write(\"Greatest Increase in Profits:\" + str(max_date)+\n",
    "               \" ($\"+str(max_profit)+\")\"+\"\\n\")\n",
    "    text.write(\"Greatest Decrease in Profits:\" + str(min_date)+\n",
    "               \" ($\"+str(min_profit)+\")\"+\"\\n\")"
   ]
  },
  {
   "cell_type": "markdown",
   "metadata": {},
   "source": [
    "##PyPoll"
   ]
  },
  {
   "cell_type": "code",
   "execution_count": null,
   "metadata": {},
   "outputs": [],
   "source": [
    "import csv\n",
    "\n",
    "with open(\"/Users/peirangxu/Desktop/Python-challenge/PyPoll/election_data.csv\", \n",
    "          newline = \"\") as csvfile2:\n",
    "    csvreader2 = csv.reader(csvfile2, delimiter=\",\")\n",
    "    next(csvreader2)\n",
    "    \n",
    "    #create empty dictionary/list and set up counter\n",
    "    total_votes = 0\n",
    "    candidates = {}\n",
    "    voter_percentage = []\n",
    "    \n",
    "    for row in csvreader2:\n",
    "        total_votes = total_votes + 1\n",
    "        \n",
    "        if row[2] not in candidates.keys():\n",
    "            candidates[row[2]]=0\n",
    "        candidates[row[2]]=candidates[row[2]]+1  #count total votes for each candidate\n",
    "        \n",
    "    print(total_votes)  #total votes casted\n",
    "\n",
    "#Write results in txt file\n",
    "with open(\"/Users/peirangxu/Desktop/Python-challenge/PyPoll/Election_Results_Summary.txt\",\"w\") as text:\n",
    "    text.write(\"Election Results \\n\")\n",
    "    text.write(\"--------------------------\\n\")\n",
    "    text.write(\"Total Votes:\" + str(total_votes) + \"\\n\")\n",
    "    text.write(\"---------------------------\\n\")\n",
    "    \n",
    "    winning_count = 0  #Initial value for winning_count\n",
    "    for i,j in candidates.items():\n",
    "        if j > winning_count:\n",
    "            winning_count = j\n",
    "            winner_candidate = i #winner candidate corresponding to winning_count\n",
    "            text.write(f'winner:{winner_candidate} {winning_count} votes \\n')\n",
    "            text.write(\"------------------------\\n\")\n",
    "        votes = float(j)\n",
    "        votes_percentage = votes/total_votes * 100  #percentage of votes got for each candidate\n",
    "        text.write(f'{i}: {round(votes_percentage,3)} % ({votes}) \\n')"
   ]
  },
  {
   "cell_type": "markdown",
   "metadata": {},
   "source": [
    "##PyBoss"
   ]
  },
  {
   "cell_type": "code",
   "execution_count": 58,
   "metadata": {},
   "outputs": [],
   "source": [
    "import datetime\n",
    "import csv\n",
    "\n",
    "with open(\"/Users/peirangxu/Desktop/Python-challenge/PyBoss/employee_data.csv\", \n",
    "          newline = \"\") as csvfile3:\n",
    "    csvreader3 = csv.reader(csvfile3, delimiter=\",\")\n",
    "    next(csvreader3)\n",
    "    \n",
    "    Emp_ID = []\n",
    "    first_name = []\n",
    "    last_name = []\n",
    "    DOB =[]\n",
    "    States = []\n",
    "    SSN_final = []\n",
    "    for row in csvreader3:\n",
    "        Emp_ID.append(row[0]) #Extract emp id\n",
    "        \n",
    "        # Split names and store first and last name in seperate lists\n",
    "        name = row[1].split(\" \")\n",
    "        first_name.append(name[0])\n",
    "        last_name.append(name[1])\n",
    "        \n",
    "    #Change the format of DOB and put in a list\n",
    "        date = datetime.datetime.strptime(row[2], '%Y-%m-%d').strftime('%m/%d/%y')\n",
    "        DOB.append(date)\n",
    "        \n",
    "    #State abbrev.\n",
    "        us_state_abbrev = {\n",
    "    'Alabama': 'AL',\n",
    "    'Alaska': 'AK',\n",
    "    'Arizona': 'AZ',\n",
    "    'Arkansas': 'AR',\n",
    "    'California': 'CA',\n",
    "    'Colorado': 'CO',\n",
    "    'Connecticut': 'CT',\n",
    "    'Delaware': 'DE',\n",
    "    'Florida': 'FL',\n",
    "    'Georgia': 'GA',\n",
    "    'Hawaii': 'HI',\n",
    "    'Idaho': 'ID',\n",
    "    'Illinois': 'IL',\n",
    "    'Indiana': 'IN',\n",
    "    'Iowa': 'IA',\n",
    "    'Kansas': 'KS',\n",
    "    'Kentucky': 'KY',\n",
    "    'Louisiana': 'LA',\n",
    "    'Maine': 'ME',\n",
    "    'Maryland': 'MD',\n",
    "    'Massachusetts': 'MA',\n",
    "    'Michigan': 'MI',\n",
    "    'Minnesota': 'MN',\n",
    "    'Mississippi': 'MS',\n",
    "    'Missouri': 'MO',\n",
    "    'Montana': 'MT',\n",
    "    'Nebraska': 'NE',\n",
    "    'Nevada': 'NV',\n",
    "    'New Hampshire': 'NH',\n",
    "    'New Jersey': 'NJ',\n",
    "    'New Mexico': 'NM',\n",
    "    'New York': 'NY',\n",
    "    'North Carolina': 'NC',\n",
    "    'North Dakota': 'ND',\n",
    "    'Ohio': 'OH',\n",
    "    'Oklahoma': 'OK',\n",
    "    'Oregon': 'OR',\n",
    "    'Pennsylvania': 'PA',\n",
    "    'Rhode Island': 'RI',\n",
    "    'South Carolina': 'SC',\n",
    "    'South Dakota': 'SD',\n",
    "    'Tennessee': 'TN',\n",
    "    'Texas': 'TX',\n",
    "    'Utah': 'UT',\n",
    "    'Vermont': 'VT',\n",
    "    'Virginia': 'VA',\n",
    "    'Washington': 'WA',\n",
    "    'West Virginia': 'WV',\n",
    "    'Wisconsin': 'WI',\n",
    "    'Wyoming': 'WY',\n",
    "        }\n",
    "        States.append(us_state_abbrev[row[4]])\n",
    "        \n",
    "        #Change the format of SSN\n",
    "        SSN= list(row[3])\n",
    "        SSN[0:3]=(\"*\",\"*\",\"*\")\n",
    "        SSN[4:6]=(\"*\",\"*\")\n",
    "        join_SSN = \"\".join(SSN)\n",
    "        SSN_final.append(join_SSN)   \n",
    "\n",
    "#Write a new csv file\n",
    "emd = zip(Emp_ID,first_name,last_name,DOB,SSN_final,States)\n",
    "with open(\"/Users/peirangxu/Desktop/Python-challenge/PyBoss/employee_data_Adjusted.csv\", \n",
    "          \"w\",newline = \"\") as csvfile3:\n",
    "    csvwriter3 = csv.writer(csvfile3, delimiter=\",\")\n",
    "    csvwriter3.writerow([\"Emp ID\", \"First Name\", \"Last Name\", \"DOB\", \"SSN\",\"State\"])\n",
    "    csvwriter3.writerows(emd)\n",
    "    "
   ]
  },
  {
   "cell_type": "code",
   "execution_count": 59,
   "metadata": {},
   "outputs": [
    {
     "data": {
      "text/plain": [
       "11"
      ]
     },
     "execution_count": 59,
     "metadata": {},
     "output_type": "execute_result"
    }
   ],
   "source": [
    "len(SSN_final[1])"
   ]
  },
  {
   "cell_type": "markdown",
   "metadata": {},
   "source": [
    "##Pyparagraph"
   ]
  },
  {
   "cell_type": "code",
   "execution_count": 15,
   "metadata": {},
   "outputs": [
    {
     "name": "stdout",
     "output_type": "stream",
     "text": [
      "Gene expression in mammals is regulated by noncoding elements that can affect physiology and disease, yet the functions and target genes of most noncoding elements remain unknown. We present a high-throughput approach that uses clustered regularly interspaced short palindromic repeats (CRISPR) interference (CRISPRi) to discover regulatory elements and identify their target genes. We assess >1 megabase of sequence in the vicinity of two essential transcription factors, MYC and GATA1, and identify nine distal enhancers that control gene expression and cellular proliferation. Quantitative features of chromatin state and chromosome conformation distinguish the seven enhancers that regulate MYC from other elements that do not, suggesting a strategy for predicting enhancer–promoter connectivity. This CRISPRi-based approach can be applied to dissect transcriptional networks and interpret the contributions of noncoding genetic variation to human disease.\n"
     ]
    }
   ],
   "source": [
    "import csv\n",
    "\n",
    "with open(\"/Users/peirangxu/Desktop/Python-challenge/Pyparagraph/paragraph_1.txt\",\"r\") as txtfile:\n",
    "    lines = txtfile.read()\n",
    "    print(lines)\n",
    "    \n",
    "    #Count number of words in the paragraph\n",
    "    words = lines.split(\" \") \n",
    "    num_words = len(words)\n",
    "    \n",
    "    #Calculate the average letter count per word\n",
    "    letter_count = []\n",
    "    for i in range(len(words)):\n",
    "        letter_count.append(len(words[i]))\n",
    "    ave_letter_count = sum(letter_count)/len(letter_count)\n",
    "    ave_letter_count = round(ave_letter_count,1)\n",
    "    \n",
    "    #Approximate sentence count\n",
    "    sentence = re.split(\"(?<=[.!?]) +\", lines)\n",
    "    num_sen = len(sentence)\n",
    "    \n",
    "    word_count = []\n",
    "    #Average sentence length\n",
    "    for j in range(len(sentence)):\n",
    "        word_in_sentence = sentence[j].split(\" \")\n",
    "        word_count.append(len(word_in_sentence))\n",
    "    ave_sen_len = sum(word_count)/len(word_count)\n",
    "        \n",
    "with open(\"/Users/peirangxu/Desktop/Python-challenge/Pyparagraph/paragraph_1_Analysis.txt\",\"w\") as text:\n",
    "    text.write(\"Paragraph 1 Analysis \\n\")\n",
    "    text.write(\"--------------------------\\n\")\n",
    "    text.write(\"Approximate Word Count: \" + str(num_words) + \"\\n\")\n",
    "    text.write(\"Approximate Sentence Count: \" + str(num_sen)+ \"\\n\")\n",
    "    text.write(\"Average Letter Count: \" + str(ave_letter_count) + \"\\n\")\n",
    "    text.write(\"Average Sentence Length: \" + str(ave_sen_len) + \"\\n\")\n",
    "    text.write(\"---------------------------\\n\")\n",
    "          "
   ]
  },
  {
   "cell_type": "code",
   "execution_count": 19,
   "metadata": {},
   "outputs": [
    {
     "name": "stdout",
     "output_type": "stream",
     "text": [
      "When Jackie Chan saw an Oscar at Sylvester Stallone's house 23 years ago, he said that was the moment he decided he wanted one.  On Saturday at the annual Governors Awards, the Chinese actor and martial arts star finally received his little gold statuette, an honorary Oscar for his decades of work in film.  \"After 56 years in the film industry, making more than 200 films, after so many bones, finally,\" Chan, 62, quipped at the star-studded gala dinner while holding his Oscar.  The actor recalled watching the ceremony with his parents and his father always asking him why he didn't have Hollywood's top accolade despite having made so many movies.  He praised his hometown Hong Kong for making him \"proud to be Chinese,\" and thanked his fans, saying they were the reason \"I continue to make movies, jumping through windows, kicking and punching, breaking my bones.\"  The actor was introduced by his \"Rush Hour\" co-star Chris Tucker, actress Michelle Yeoh and Tom Hanks, who referred to him as \"Jackie 'Chantastic' Chan.\"  Hanks said it was especially gratifying to be able to acknowledge Chan's work because martial arts and action comedy films were two genres often overlooked during awards season.  The Academy of Motion Pictures Arts and Sciences, hosts of the annual ceremony, also bestowed honorary Oscars on British film editor Anne V. Coates, casting director Lynn Stalmaster and prolific documentarian Frederick Wiseman.  The evening was attended by Hollywood's elite, including Denzel Washington, Lupita Nyong'o, Nicole Kidman, Emma Stone, Ryan Reynolds, Amy Adams and Dev Patel.  Stalmaster, 88, credited with securing career-defining roles for actors such as Jeff Bridges, Andy Garcia, Christopher Reeve and John Travolta, is the first casting director to receive an Oscar.\n"
     ]
    }
   ],
   "source": [
    "import re\n",
    "import csv\n",
    "\n",
    "with open(\"/Users/peirangxu/Desktop/Python-challenge/Pyparagraph/paragraph_2.txt\",\"r\") as txtfile:\n",
    "    lines = txtfile.read().replace(\"\\n\",\" \")\n",
    "    print(lines)\n",
    "    \n",
    "    #Count number of words in the paragraph\n",
    "    words = lines.split(\" \") \n",
    "    num_words = len(words)\n",
    "    \n",
    "    #Calculate the average letter count per word\n",
    "    letter_count = []\n",
    "    for i in range(len(words)):\n",
    "        letter_count.append(len(words[i]))\n",
    "    ave_letter_count = sum(letter_count)/len(letter_count)\n",
    "    ave_letter_count = ave_letter_count\n",
    "    \n",
    "    #Approximate sentence count\n",
    "    sentence = re.split(\"(?<=[.!?]) +\", lines)\n",
    "    num_sen = len(sentence)\n",
    "    \n",
    "    word_count = []\n",
    "    #Average sentence length\n",
    "    for j in range(len(sentence)):\n",
    "        word_in_sentence = sentence[j].split(\" \")\n",
    "        word_count.append(len(word_in_sentence))\n",
    "    ave_sen_len = sum(word_count)/len(word_count)\n",
    "        \n",
    "with open(\"/Users/peirangxu/Desktop/Python-challenge/Pyparagraph/paragraph_2_Analysis.txt\",\"w\") as text:\n",
    "    text.write(\"Paragraph 2 Analysis \\n\")\n",
    "    text.write(\"--------------------------\\n\")\n",
    "    text.write(\"Approximate Word Count: \" + str(num_words) + \"\\n\")\n",
    "    text.write(\"Approximate Sentence Count: \" + str(num_sen)+ \"\\n\")\n",
    "    text.write(\"Average Letter Count: \" + str(ave_letter_count) + \"\\n\")\n",
    "    text.write(\"Average Sentence Length: \" + str(ave_sen_len) + \"\\n\")\n",
    "    text.write(\"---------------------------\\n\")\n",
    "          "
   ]
  },
  {
   "cell_type": "code",
   "execution_count": 20,
   "metadata": {},
   "outputs": [
    {
     "data": {
      "text/plain": [
       "['Stalmaster,',\n",
       " '88,',\n",
       " 'credited',\n",
       " 'with',\n",
       " 'securing',\n",
       " 'career-defining',\n",
       " 'roles',\n",
       " 'for',\n",
       " 'actors',\n",
       " 'such',\n",
       " 'as',\n",
       " 'Jeff',\n",
       " 'Bridges,',\n",
       " 'Andy',\n",
       " 'Garcia,',\n",
       " 'Christopher',\n",
       " 'Reeve',\n",
       " 'and',\n",
       " 'John',\n",
       " 'Travolta,',\n",
       " 'is',\n",
       " 'the',\n",
       " 'first',\n",
       " 'casting',\n",
       " 'director',\n",
       " 'to',\n",
       " 'receive',\n",
       " 'an',\n",
       " 'Oscar.']"
      ]
     },
     "execution_count": 20,
     "metadata": {},
     "output_type": "execute_result"
    }
   ],
   "source": []
  },
  {
   "cell_type": "code",
   "execution_count": null,
   "metadata": {},
   "outputs": [],
   "source": []
  },
  {
   "cell_type": "code",
   "execution_count": null,
   "metadata": {},
   "outputs": [],
   "source": []
  }
 ],
 "metadata": {
  "kernelspec": {
   "display_name": "Python 3",
   "language": "python",
   "name": "python3"
  },
  "language_info": {
   "codemirror_mode": {
    "name": "ipython",
    "version": 3
   },
   "file_extension": ".py",
   "mimetype": "text/x-python",
   "name": "python",
   "nbconvert_exporter": "python",
   "pygments_lexer": "ipython3",
   "version": "3.7.3"
  }
 },
 "nbformat": 4,
 "nbformat_minor": 4
}
